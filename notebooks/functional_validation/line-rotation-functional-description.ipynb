{
 "cells": [
  {
   "metadata": {
    "ExecuteTime": {
     "end_time": "2025-04-02T10:42:43.034974Z",
     "start_time": "2025-04-02T10:42:42.885830Z"
    }
   },
   "cell_type": "code",
   "source": "import numpy as np",
   "id": "7e84d885ef07737e",
   "outputs": [],
   "execution_count": 56
  },
  {
   "cell_type": "code",
   "id": "initial_id",
   "metadata": {
    "collapsed": true,
    "ExecuteTime": {
     "end_time": "2025-04-02T12:59:22.354479Z",
     "start_time": "2025-04-02T12:59:22.350477Z"
    }
   },
   "source": [
    "# LINE_LEN = 10\n",
    "LINE_LEN = 8\n",
    "PIXEL_CNT = 5\n",
    "# CUT_POSITIONS = [4,8,9,2,5,1,5]\n",
    "CUT_POSITIONS = [0, 4,0,2,2,1,3]\n",
    "# CUT_POSITIONS = [4,4,4,4]\n",
    "# CUT_POSITIONS = [0,0,0,0]"
   ],
   "outputs": [],
   "execution_count": 122
  },
  {
   "metadata": {
    "ExecuteTime": {
     "end_time": "2025-04-02T10:54:44.637554Z",
     "start_time": "2025-04-02T10:54:44.632119Z"
    }
   },
   "cell_type": "code",
   "source": "",
   "id": "83361432fe893b11",
   "outputs": [
    {
     "data": {
      "text/plain": [
       "[0, 1, 2, 3, 4, 5, 6, 7, 8, 9, 10, 11, 12, 13, 14, 15, 16, 17, 18, 19]"
      ]
     },
     "execution_count": 67,
     "metadata": {},
     "output_type": "execute_result"
    }
   ],
   "execution_count": 67
  },
  {
   "metadata": {
    "ExecuteTime": {
     "end_time": "2025-04-02T12:59:23.265987Z",
     "start_time": "2025-04-02T12:59:23.258572Z"
    }
   },
   "cell_type": "code",
   "source": [
    "lines = []\n",
    "np.random.seed(0)\n",
    "for i in range(len(CUT_POSITIONS) - 1):\n",
    "   \n",
    "   line = [*range(LINE_LEN)]\n",
    "   np.random.shuffle(line)\n",
    "   lines.append([*enumerate(line)])\n",
    "lines.append([(0, 0) for _ in range(LINE_LEN)])\n",
    "lines"
   ],
   "id": "f070d118bb3a50b8",
   "outputs": [
    {
     "data": {
      "text/plain": [
       "[[(0, 6), (1, 2), (2, 1), (3, 7), (4, 3), (5, 0), (6, 5), (7, 4)],\n",
       " [(0, 1), (1, 6), (2, 3), (3, 7), (4, 0), (5, 4), (6, 2), (7, 5)],\n",
       " [(0, 5), (1, 2), (2, 3), (3, 4), (4, 7), (5, 0), (6, 6), (7, 1)],\n",
       " [(0, 2), (1, 5), (2, 6), (3, 7), (4, 3), (5, 4), (6, 1), (7, 0)],\n",
       " [(0, 4), (1, 5), (2, 1), (3, 6), (4, 3), (5, 2), (6, 0), (7, 7)],\n",
       " [(0, 4), (1, 2), (2, 7), (3, 1), (4, 0), (5, 6), (6, 3), (7, 5)],\n",
       " [(0, 0), (0, 0), (0, 0), (0, 0), (0, 0), (0, 0), (0, 0), (0, 0)]]"
      ]
     },
     "execution_count": 123,
     "metadata": {},
     "output_type": "execute_result"
    }
   ],
   "execution_count": 123
  },
  {
   "metadata": {
    "ExecuteTime": {
     "end_time": "2025-04-02T13:04:20.673757Z",
     "start_time": "2025-04-02T13:04:20.665760Z"
    }
   },
   "cell_type": "code",
   "source": [
    "el_r = 0\n",
    "switch = True\n",
    "buffer_0 = [(0, 0) for _ in range(LINE_LEN)]\n",
    "buffer_1 = [(0, 0) for _ in range(LINE_LEN)]\n",
    "rotated_lines = []\n",
    "expected_lines = []\n",
    "for j, (cut_position, line) in enumerate(zip(CUT_POSITIONS, lines)):\n",
    "   print(\"Cut position: %d\" % cut_position)\n",
    "   rotated_line = []\n",
    "   for i_w, el_w in enumerate(line):\n",
    "      if i_w < PIXEL_CNT:\n",
    "         i_r = (i_w + cut_position) % PIXEL_CNT\n",
    "      else:\n",
    "         i_r = i_w\n",
    "      \n",
    "      # if i_w < SWITCH_POINT:\n",
    "      if switch:\n",
    "         buffer_0[i_w] = el_w\n",
    "         el_r = buffer_1[i_r]\n",
    "      else:\n",
    "         buffer_1[i_w] = el_w\n",
    "         el_r = buffer_0[i_r]\n",
    "      rotated_line.append(el_r)\n",
    "   switch = not switch\n",
    "\n",
    "\n",
    "   rotated_lines.append(rotated_line)\n",
    "   \n",
    "   expected_line = np.concatenate([np.roll(lines[j - 1][:PIXEL_CNT], PIXEL_CNT - cut_position, axis=0), \n",
    "                                   lines[j - 1][PIXEL_CNT:]]) # delay of one line\n",
    "   expected_lines.append(expected_line)\n",
    "   if not np.all(expected_line == rotated_line):\n",
    "      print(\"ERROR: lines do not match\")\n",
    "      print(\"Expected:\", *expected_line)\n",
    "   else:\n",
    "      print(\"SUCCESS: lines do match\")\n",
    "   print(\"Actual:\", *rotated_line)\n",
    "\n",
    "   # print(buffer_0)\n",
    "   # print(buffer_1)      \n"
   ],
   "id": "1d4fcb8072963990",
   "outputs": [
    {
     "name": "stdout",
     "output_type": "stream",
     "text": [
      "Cut position: 0\n",
      "SUCCESS: lines do match\n",
      "Actual: (0, 0) (0, 0) (0, 0) (0, 0) (0, 0) (0, 0) (0, 0) (0, 0)\n",
      "Cut position: 4\n",
      "SUCCESS: lines do match\n",
      "Actual: (4, 3) (0, 6) (1, 2) (2, 1) (3, 7) (5, 0) (6, 5) (7, 4)\n",
      "Cut position: 0\n",
      "SUCCESS: lines do match\n",
      "Actual: (0, 1) (1, 6) (2, 3) (3, 7) (4, 0) (5, 4) (6, 2) (7, 5)\n",
      "Cut position: 2\n",
      "SUCCESS: lines do match\n",
      "Actual: (2, 3) (3, 4) (4, 7) (0, 5) (1, 2) (5, 0) (6, 6) (7, 1)\n",
      "Cut position: 2\n",
      "SUCCESS: lines do match\n",
      "Actual: (2, 6) (3, 7) (4, 3) (0, 2) (1, 5) (5, 4) (6, 1) (7, 0)\n",
      "Cut position: 1\n",
      "SUCCESS: lines do match\n",
      "Actual: (1, 5) (2, 1) (3, 6) (4, 3) (0, 4) (5, 2) (6, 0) (7, 7)\n",
      "Cut position: 3\n",
      "SUCCESS: lines do match\n",
      "Actual: (3, 1) (4, 0) (0, 4) (1, 2) (2, 7) (5, 6) (6, 3) (7, 5)\n"
     ]
    }
   ],
   "execution_count": 131
  },
  {
   "metadata": {
    "ExecuteTime": {
     "end_time": "2025-04-02T11:40:57.233170Z",
     "start_time": "2025-04-02T11:40:57.228246Z"
    }
   },
   "cell_type": "code",
   "source": "CUT_POSITIONS",
   "id": "e2b2ee792385543",
   "outputs": [
    {
     "data": {
      "text/plain": [
       "[0, 4, 0, 2, 2, 1, 3]"
      ]
     },
     "execution_count": 102,
     "metadata": {},
     "output_type": "execute_result"
    }
   ],
   "execution_count": 102
  },
  {
   "metadata": {
    "ExecuteTime": {
     "end_time": "2025-04-02T11:40:39.909291Z",
     "start_time": "2025-04-02T11:40:39.903043Z"
    }
   },
   "cell_type": "code",
   "source": "lines",
   "id": "eff75ecb737de05e",
   "outputs": [
    {
     "data": {
      "text/plain": [
       "[[(0, 2), (1, 0), (2, 1), (3, 3), (4, 4)],\n",
       " [(0, 0), (1, 2), (2, 1), (3, 4), (4, 3)],\n",
       " [(0, 1), (1, 3), (2, 4), (3, 0), (4, 2)],\n",
       " [(0, 3), (1, 1), (2, 2), (3, 4), (4, 0)],\n",
       " [(0, 4), (1, 2), (2, 3), (3, 1), (4, 0)],\n",
       " [(0, 2), (1, 3), (2, 4), (3, 1), (4, 0)],\n",
       " [(0, 0), (0, 0), (0, 0), (0, 0), (0, 0)]]"
      ]
     },
     "execution_count": 101,
     "metadata": {},
     "output_type": "execute_result"
    }
   ],
   "execution_count": 101
  },
  {
   "metadata": {
    "ExecuteTime": {
     "end_time": "2025-04-02T12:00:02.395875Z",
     "start_time": "2025-04-02T12:00:02.390262Z"
    }
   },
   "cell_type": "code",
   "source": "np.array(expected_lines).tolist()         ",
   "id": "7f3041fc69ac7cf4",
   "outputs": [
    {
     "data": {
      "text/plain": [
       "[[[0, 0], [0, 0], [0, 0], [0, 0], [0, 0]],\n",
       " [[4, 4], [0, 2], [1, 0], [2, 1], [3, 3]],\n",
       " [[0, 0], [1, 2], [2, 1], [3, 4], [4, 3]],\n",
       " [[2, 4], [3, 0], [4, 2], [0, 1], [1, 3]],\n",
       " [[2, 2], [3, 4], [4, 0], [0, 3], [1, 1]],\n",
       " [[1, 2], [2, 3], [3, 1], [4, 0], [0, 4]],\n",
       " [[3, 1], [4, 0], [0, 2], [1, 3], [2, 4]]]"
      ]
     },
     "execution_count": 118,
     "metadata": {},
     "output_type": "execute_result"
    }
   ],
   "execution_count": 118
  },
  {
   "metadata": {
    "ExecuteTime": {
     "end_time": "2025-04-02T11:39:51.506138Z",
     "start_time": "2025-04-02T11:39:51.500158Z"
    }
   },
   "cell_type": "code",
   "source": "rotated_lines",
   "id": "31cdaf31fc000cc3",
   "outputs": [
    {
     "data": {
      "text/plain": [
       "[[(0, 0), (0, 0), (0, 0), (0, 0), (0, 0)],\n",
       " [(4, 4), (0, 2), (1, 0), (2, 1), (3, 3)],\n",
       " [(0, 0), (1, 2), (2, 1), (3, 4), (4, 3)],\n",
       " [(2, 4), (3, 0), (4, 2), (0, 1), (1, 3)],\n",
       " [(2, 2), (3, 4), (4, 0), (0, 3), (1, 1)],\n",
       " [(1, 2), (2, 3), (3, 1), (4, 0), (0, 4)],\n",
       " [(3, 1), (4, 0), (0, 2), (1, 3), (2, 4)]]"
      ]
     },
     "execution_count": 100,
     "metadata": {},
     "output_type": "execute_result"
    }
   ],
   "execution_count": 100
  },
  {
   "metadata": {},
   "cell_type": "code",
   "outputs": [],
   "execution_count": null,
   "source": [
    "expected_lines = []\n",
    "for line in lines in "
   ],
   "id": "2b0ba490e4442ac6"
  },
  {
   "metadata": {
    "ExecuteTime": {
     "end_time": "2025-04-02T11:50:09.078106Z",
     "start_time": "2025-04-02T11:50:09.071110Z"
    }
   },
   "cell_type": "code",
   "source": "np.all(np.equal(lines[:-1], rotated_lines[1:])) ",
   "id": "4b76cc6703053991",
   "outputs": [
    {
     "data": {
      "text/plain": [
       "False"
      ]
     },
     "execution_count": 106,
     "metadata": {},
     "output_type": "execute_result"
    }
   ],
   "execution_count": 106
  },
  {
   "metadata": {
    "ExecuteTime": {
     "end_time": "2025-04-02T11:50:37.838367Z",
     "start_time": "2025-04-02T11:50:37.832354Z"
    }
   },
   "cell_type": "code",
   "source": "lines[:-1]",
   "id": "b5ed1270204b6850",
   "outputs": [
    {
     "data": {
      "text/plain": [
       "[[(0, 2), (1, 0), (2, 1), (3, 3), (4, 4)],\n",
       " [(0, 0), (1, 2), (2, 1), (3, 4), (4, 3)],\n",
       " [(0, 1), (1, 3), (2, 4), (3, 0), (4, 2)],\n",
       " [(0, 3), (1, 1), (2, 2), (3, 4), (4, 0)],\n",
       " [(0, 4), (1, 2), (2, 3), (3, 1), (4, 0)],\n",
       " [(0, 2), (1, 3), (2, 4), (3, 1), (4, 0)]]"
      ]
     },
     "execution_count": 107,
     "metadata": {},
     "output_type": "execute_result"
    }
   ],
   "execution_count": 107
  },
  {
   "metadata": {
    "ExecuteTime": {
     "end_time": "2025-04-02T11:50:39.925688Z",
     "start_time": "2025-04-02T11:50:39.918683Z"
    }
   },
   "cell_type": "code",
   "source": "rotated_lines[1:]",
   "id": "6b3a7beede5dbf5b",
   "outputs": [
    {
     "data": {
      "text/plain": [
       "[[(4, 4), (0, 2), (1, 0), (2, 1), (3, 3)],\n",
       " [(0, 0), (1, 2), (2, 1), (3, 4), (4, 3)],\n",
       " [(2, 4), (3, 0), (4, 2), (0, 1), (1, 3)],\n",
       " [(2, 2), (3, 4), (4, 0), (0, 3), (1, 1)],\n",
       " [(1, 2), (2, 3), (3, 1), (4, 0), (0, 4)],\n",
       " [(3, 1), (4, 0), (0, 2), (1, 3), (2, 4)]]"
      ]
     },
     "execution_count": 108,
     "metadata": {},
     "output_type": "execute_result"
    }
   ],
   "execution_count": 108
  }
 ],
 "metadata": {
  "kernelspec": {
   "display_name": "Python 3",
   "language": "python",
   "name": "python3"
  },
  "language_info": {
   "codemirror_mode": {
    "name": "ipython",
    "version": 2
   },
   "file_extension": ".py",
   "mimetype": "text/x-python",
   "name": "python",
   "nbconvert_exporter": "python",
   "pygments_lexer": "ipython2",
   "version": "2.7.6"
  }
 },
 "nbformat": 4,
 "nbformat_minor": 5
}
