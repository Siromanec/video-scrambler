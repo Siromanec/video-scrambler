{
 "cells": [
  {
   "cell_type": "code",
   "id": "initial_id",
   "metadata": {
    "collapsed": true,
    "jupyter": {
     "is_executing": true
    },
    "ExecuteTime": {
     "start_time": "2025-04-26T16:04:59.872607Z"
    }
   },
   "source": [
    "import csv\n",
    "import pandas as pd\n",
    "import plotly.express as px\n",
    "import numpy as np\n",
    "\n",
    "# Read and skip 17 lines\n",
    "csv_file_path = 'resource_per_entity.csv'\n",
    "data = []\n",
    "\n",
    "allow_list = [\n",
    "    \"scrambler_mm\",\n",
    "    \"rom_scrambler_config\",\n",
    "    \"rom_scrambler_config_reader\",\n",
    "    \"scrambler\",\n",
    "    \"drbg_consumer\",\n",
    "    \"drbg_synchronizer\",\n",
    "    \"hash_drbg_sha256\",\n",
    "    \"hash_drbg\",\n",
    "    \"sha256_core\",\n",
    "    \"line_rotator\",\n",
    "    \"sequence_detector\",\n",
    "    \"sequence_generator\",\n",
    "    \"sequence_generator_switch\",\n",
    "    \"sync_parser\",\n",
    "    \"sld_hub\",\n",
    "    \"delay_buffer_4clk\"\n",
    "]\n",
    "allow_list = set(allow_list)\n",
    "\n",
    "not_end_nodes = [\"scrambler_mm\", \"scrambler\", \"hash_drbg_sha256\"]\n",
    "not_end_nodes = set(not_end_nodes)\n",
    "\n",
    "with open(csv_file_path, 'r') as f:\n",
    "    for _ in range(18):\n",
    "        next(f)\n",
    "    reader = csv.reader(f)\n",
    "    for row in reader:\n",
    "        data.append(row)\n",
    "\n",
    "# Prepare data\n",
    "treemap_rows = []\n",
    "stack = []\n",
    "        \n",
    "for row in data:\n",
    "    try:\n",
    "        # if \"alt\" in row[0]: #skip altera components\n",
    "        #     continue\n",
    "        hierarchy = row[0].split(\"|\")\n",
    "\n",
    "\n",
    "        depth = len(hierarchy[0]) // 3\n",
    "        while len(stack) > depth:\n",
    "            stack.pop()\n",
    "            \n",
    "        stack.append(hierarchy[1].split(\":\")[0])\n",
    "        if stack[-1] not in not_end_nodes:\n",
    "            aluts = int(row[1].split('(')[0])\n",
    "            block_memory_bits = int(row[3])\n",
    "        else:\n",
    "            aluts = int(row[1].split(\"(\")[1][:-1])\n",
    "            block_memory_bits = 1\n",
    "    except (ValueError, IndexError):\n",
    "        continue\n",
    "    if stack[-1] not in allow_list:\n",
    "        continue\n",
    "\n",
    "\n",
    "\n",
    "    if aluts > 0:  # <---- ONLY include if ALUTs > 0 (prevent zero-weight crash)\n",
    "        \n",
    "        if (stack[-1] in [\"hash_drbg_sha256\", \"scrambler_mm\", \"sld_hub\"]):\n",
    "            name = \" \".join(stack[-1].split(\"_\"))\n",
    "        else:\n",
    "            name = \"<br>\".join(stack[-1].split(\"_\"))\n",
    "\n",
    "        if depth != 0:\n",
    "            if (stack[-2] in [\"hash_drbg_sha256\", \"scrambler_mm\", \"sld_hub\"]):\n",
    "                parent= \" \".join(stack[-2].split(\"_\"))\n",
    "            else:\n",
    "                parent= \"<br>\".join(stack[-2].split(\"_\"))\n",
    "        else:\n",
    "            parent = \"\"\n",
    "        treemap_rows.append({\n",
    "            \"name\": name,\n",
    "            \"parent\": parent,\n",
    "            \"ALUTs\": aluts,\n",
    "            \"BlockMemoryBits\": block_memory_bits\n",
    "        })\n",
    "\n",
    "# Convert to DataFrame\n",
    "df = pd.DataFrame(treemap_rows)\n",
    "# df.loc[df.name == \"scrambler mm\", \"ALUTs\"] -= list(df.loc[df.name == \"sld hub\", \"ALUTs\"])[0]\n",
    "# df.loc[df.name == \"scrambler mm\", \"BlockMemoryBits\"] -= list(df.loc[df.name == \"sld hub\", \"BlockMemoryBits\"])[0]\n",
    "df.drop(df.loc[df.name == \"sld hub\"].index, inplace=True)\n",
    "\n",
    "# # Plot treemap\n",
    "MIN_ALUT_THRESHOLD = 512  # Set a minimum display size (in ALUTs)\n",
    "df.set_index(\"name\")\n",
    "# df['ALUTs'] = df['ALUTs'] - df[df.name == \"sld hub\"][\"ALUTs\"]\n",
    "\n",
    "df['ALUTs_adj'] = df['ALUTs'].apply(lambda x: x if x >= MIN_ALUT_THRESHOLD else MIN_ALUT_THRESHOLD)\n",
    "df['ALUTs_log2'] = np.log2(df['ALUTs'])\n",
    "# np.log\n",
    "# df['ALUTs_log2'] = df['ALUTs'] ** 0.5\n",
    "df[\"BlockMemoryBits_log2\"] = np.log2(df['BlockMemoryBits'])\n",
    "# df[\"BlockMemoryBits_log2\"] = df['BlockMemoryBits'] ** 0.1\n",
    "fig = px.treemap(\n",
    "    df,\n",
    "    names=\"name\",\n",
    "    parents=\"parent\",\n",
    "    values=\"ALUTs_log2\",\n",
    "    color=\"ALUTs_log2\",  # You can change to \"BlockMemoryBits\" if preferred\n",
    "    color_continuous_scale=\"Rainbow\",\n",
    "    # title=\"ALUTs Utilization\",\n",
    ")\n",
    "\n",
    "max_log2 = np.ceil(df[\"ALUTs_log2\"].max()).astype(int) + 1  # safest casting\n",
    "tickvals = list(range(max_log2 + 1))  # log2 scale values\n",
    "ticktext = [str(2**i) for i in tickvals]  # actual ALUTs (non-log scale)\n",
    "\n",
    "fig.update_layout(\n",
    "    width=1000,                # Wider figure\n",
    "    height=600,                # Taller figure\n",
    "    margin=dict(t=100, l=25, r=25, b=25),\n",
    "    font=dict(size=18),         # Larger font size for all text,\n",
    "    uniformtext=dict(minsize=18),\n",
    "    coloraxis=dict(\n",
    "        # color=df['ALUTs_log2'],\n",
    "        showscale=True,\n",
    "        colorscale='Rainbow',\n",
    "        # dtick=\"log\",\n",
    "        cmin = 0,\n",
    "        cmax = int(tickvals[-1]),\n",
    "        colorbar=dict(\n",
    "            title='ALUTs',\n",
    "            tickvals=tickvals,\n",
    "            ticktext=ticktext,\n",
    "        ),\n",
    "    )\n",
    ")\n",
    "fig.write_image(\"ALUTs-utilization.pdf\")\n",
    "fig.show()\n",
    "\n",
    "max_log2 = np.ceil(df[\"BlockMemoryBits_log2\"].max()).astype(int)  # safest casting\n",
    "tickvals = list(range(max_log2 + 1))  # log2 scale values\n",
    "ticktext = [str(2**i) for i in tickvals]  # actual ALUTs (non-log scale)\n",
    "\n",
    "fig = px.treemap(\n",
    "    df,\n",
    "    names=\"name\",\n",
    "    parents=\"parent\",\n",
    "    values=\"BlockMemoryBits_log2\",\n",
    "    color=\"BlockMemoryBits_log2\",  # You can change to \"BlockMemoryBits\" if preferred\n",
    "    color_continuous_scale=\"Rainbow\",\n",
    "    # title=\"Memory Utilization\"\n",
    ")\n",
    "\n",
    "fig.update_layout(\n",
    "    width=1000,                # Wider figure\n",
    "    height=600,                # Taller figure\n",
    "    margin=dict(t=100, l=25, r=25, b=25),\n",
    "    font=dict(size=18),         # Larger font size for all text,\n",
    "    uniformtext=dict(minsize=18),\n",
    "    coloraxis=dict(\n",
    "        # color=df['ALUTs_log2'],\n",
    "        showscale=True,\n",
    "        colorscale='Turbo',\n",
    "        # dtick=\"log\",\n",
    "        cmin = 0,\n",
    "        cmax = int(tickvals[-1]),\n",
    "        colorbar=dict(\n",
    "            title='Memory Bits',\n",
    "            tickvals=tickvals,\n",
    "            ticktext=ticktext,\n",
    "        ),\n",
    "    )\n",
    ")\n",
    "fig.write_image(\"memory-utilization.pdf\")\n",
    "fig.show()\n"
   ],
   "outputs": [
    {
     "name": "stderr",
     "output_type": "stream",
     "text": [
      "C:\\Users\\ADMIN\\anaconda3\\Lib\\site-packages\\pandas\\core\\arraylike.py:402: RuntimeWarning: divide by zero encountered in log2\n",
      "  result = getattr(ufunc, method)(*inputs, **kwargs)\n"
     ]
    }
   ],
   "execution_count": null
  },
  {
   "metadata": {
    "ExecuteTime": {
     "end_time": "2025-04-22T21:40:32.436654Z",
     "start_time": "2025-04-22T21:40:32.430760Z"
    }
   },
   "cell_type": "code",
   "source": "",
   "id": "fd56c3d11de0fbc3",
   "outputs": [
    {
     "data": {
      "text/plain": [
       "34"
      ]
     },
     "execution_count": 7,
     "metadata": {},
     "output_type": "execute_result"
    }
   ],
   "execution_count": 7
  },
  {
   "metadata": {
    "ExecuteTime": {
     "end_time": "2025-04-22T20:20:08.133024Z",
     "start_time": "2025-04-22T20:20:08.128735Z"
    }
   },
   "cell_type": "code",
   "source": "\"123 (323)\".split(\"(\")[1][:-1]",
   "id": "f3d83104dc23ace1",
   "outputs": [
    {
     "data": {
      "text/plain": [
       "'323'"
      ]
     },
     "execution_count": 161,
     "metadata": {},
     "output_type": "execute_result"
    }
   ],
   "execution_count": 161
  },
  {
   "metadata": {
    "ExecuteTime": {
     "end_time": "2025-04-22T19:56:38.282827Z",
     "start_time": "2025-04-22T19:56:38.275361Z"
    }
   },
   "cell_type": "code",
   "source": "df.loc[df.name == \"scrambler mm\", \"ALUTs\"]",
   "id": "7cdf0dc04df94c1",
   "outputs": [
    {
     "data": {
      "text/plain": [
       "0    2629\n",
       "Name: ALUTs, dtype: int64"
      ]
     },
     "execution_count": 147,
     "metadata": {},
     "output_type": "execute_result"
    }
   ],
   "execution_count": 147
  },
  {
   "metadata": {},
   "cell_type": "code",
   "source": "print(*[f'\"{i}\"' for i in df.name], sep=\",\\n\")",
   "id": "7c21d1c9ffc8a545",
   "outputs": [
    {
     "name": "stdout",
     "output_type": "stream",
     "text": [
      "\"scrambler_mm\",\n",
      "\"rom_scrambler_config\",\n",
      "\"altsyncram\",\n",
      "\"altsyncram_72j1\",\n",
      "\"sld_mod_ram_rom\",\n",
      "\"sld_rom_sr\",\n",
      "\"rom_scrambler_config_reader\",\n",
      "\"scrambler\",\n",
      "\"drbg_consumer\",\n",
      "\"drbg_synchronizer\",\n",
      "\"hash_drbg_sha256\",\n",
      "\"hash_drbg\",\n",
      "\"posedge_to_pulse\",\n",
      "\"posedge_to_pulse\",\n",
      "\"sha256_core\",\n",
      "\"sha256_k_constants\",\n",
      "\"sha256_w_mem\",\n",
      "\"line_rotator\",\n",
      "\"cut_position_interpolator\",\n",
      "\"sequence_detector\",\n",
      "\"sequence_generator\",\n",
      "\"clk_div36\",\n",
      "\"sequence_shiftreg_out\",\n",
      "\"lpm_shiftreg\",\n",
      "\"sequence_generator_switch\",\n",
      "\"sync_parser\",\n",
      "\"sld_hub\",\n",
      "\"alt_sld_fab_with_jtag_input\",\n",
      "\"alt_sld_fab\",\n",
      "\"alt_sld_fab_alt_sld_fab\",\n",
      "\"alt_sld_fab_alt_sld_fab_sldfabric\",\n",
      "\"sld_jtag_hub\",\n",
      "\"sld_rom_sr\",\n",
      "\"sld_shadow_jsm\"\n"
     ]
    }
   ],
   "execution_count": 80
  },
  {
   "metadata": {},
   "cell_type": "code",
   "outputs": [],
   "execution_count": null,
   "source": [
    "[\n",
    "\"scrambler_mm\",\n",
    "\"rom_scrambler_config\",\n",
    "\"rom_scrambler_config_reader\",\n",
    "\"scrambler\",\n",
    "\"drbg_consumer\",\n",
    "\"drbg_synchronizer\",\n",
    "\"hash_drbg_sha256\",\n",
    "\"hash_drbg\",\n",
    "\"sha256_core\",\n",
    "\"line_rotator\",\n",
    "\"sequence_detector\",\n",
    "\"sequence_generator\",\n",
    "\"sequence_generator_switch\",\n",
    "\"sync_parser\",\n",
    "\"sld_hub\",\n",
    "    ]"
   ],
   "id": "cca8a4abecec629a"
  }
 ],
 "metadata": {
  "kernelspec": {
   "display_name": "Python 3",
   "language": "python",
   "name": "python3"
  },
  "language_info": {
   "codemirror_mode": {
    "name": "ipython",
    "version": 2
   },
   "file_extension": ".py",
   "mimetype": "text/x-python",
   "name": "python",
   "nbconvert_exporter": "python",
   "pygments_lexer": "ipython2",
   "version": "2.7.6"
  }
 },
 "nbformat": 4,
 "nbformat_minor": 5
}
