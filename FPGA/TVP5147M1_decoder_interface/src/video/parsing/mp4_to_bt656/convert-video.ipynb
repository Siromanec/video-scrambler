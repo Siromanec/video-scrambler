{
 "cells": [
  {
   "cell_type": "code",
   "id": "initial_id",
   "metadata": {
    "collapsed": true,
    "ExecuteTime": {
     "end_time": "2025-04-02T13:55:43.005747Z",
     "start_time": "2025-04-02T13:55:42.705705Z"
    }
   },
   "source": [
    "import cv2\n",
    "import numpy as np\n"
   ],
   "outputs": [],
   "execution_count": 3
  },
  {
   "metadata": {},
   "cell_type": "code",
   "outputs": [],
   "execution_count": null,
   "source": "",
   "id": "de0eced3a9b632b6"
  },
  {
   "metadata": {},
   "cell_type": "markdown",
   "source": [
    "The requirements for verilog module with the video\n",
    "\n",
    "1. independent of exact formmat\n",
    "2. must \n"
   ],
   "id": "a521d4abbb84a4d1"
  },
  {
   "metadata": {
    "ExecuteTime": {
     "end_time": "2025-04-02T13:55:40.371204Z",
     "start_time": "2025-04-02T13:55:40.364211Z"
    }
   },
   "cell_type": "code",
   "source": [
    "\n",
    "video_file = \"video.mp4\""
   ],
   "id": "7145bf68c42fd263",
   "outputs": [],
   "execution_count": 1
  },
  {
   "metadata": {
    "ExecuteTime": {
     "end_time": "2025-04-02T13:55:40.376887Z",
     "start_time": "2025-04-02T13:55:40.372513Z"
    }
   },
   "cell_type": "code",
   "source": [
    "TOTAL_LINES = 525\n",
    "TOTAL_ACTIVE_LINES = 480\n",
    "TOTAL_PIXELS = 858\n",
    "TOTAL_ACTIVE_PIXELS = 720\n",
    "TOTAL_BLANKING_PIXELS = TOTAL_PIXELS - TOTAL_ACTIVE_PIXELS\n",
    "\n",
    "preamble = [0xFF, 0x00, 0x00]\n",
    "# https://pub.smpte.org/pub/st293/st0293-2003_stable2010.pdf, table 3\n",
    "SAV_active = 0b10000000\n",
    "EAV_active = 0b10011101\n",
    "SAV_VBI = 0b10101011\n",
    "EAV_VBI = 0b10110110\n",
    "\n",
    "EAV_START = 2 * TOTAL_ACTIVE_PIXELS\n",
    "SAV_START =  2 * TOTAL_PIXELS - 4\n",
    "\n",
    "DEFAULT_Y = 16\n",
    "DEFAULT_C = 128\n",
    "# what is going on during vertical blanking?\n",
    "# todo do for one frame"
   ],
   "id": "d7eb322b7809b606",
   "outputs": [],
   "execution_count": 2
  },
  {
   "metadata": {
    "ExecuteTime": {
     "end_time": "2025-04-02T14:17:20.905257Z",
     "start_time": "2025-04-02T14:17:17.096143Z"
    }
   },
   "cell_type": "code",
   "source": [
    "\n",
    "cap = cv2.VideoCapture(video_file)\n",
    "global_frame = np.zeros((TOTAL_ACTIVE_LINES, TOTAL_ACTIVE_PIXELS, 3), np.uint8)\n",
    "\n",
    "counter = 0\n",
    "all_frames = []\n",
    "while (1):\n",
    "    ret, frame = cap.read()\n",
    "\n",
    "    if cv2.waitKey(1) & 0xFF == ord('q') or ret == False:\n",
    "        cap.release()\n",
    "        cv2.destroyAllWindows()\n",
    "        break\n",
    "\n",
    "    frame = cv2.resize(frame, (720, 480), cv2.INTER_AREA)\n",
    "    frame = cv2.cvtColor(frame, cv2.COLOR_BGR2YCrCb)\n",
    "\n",
    "    lines = np.zeros((TOTAL_LINES, 2 * TOTAL_PIXELS)).astype(np.uint8)\n",
    "    # YCrCb 4:2:2\n",
    "    Y = frame[:, :, 0]\n",
    "    Cr = frame[:, ::2, 1]\n",
    "    Cb = frame[:, ::2, 2]\n",
    "\n",
    "    lines[:TOTAL_ACTIVE_LINES, 0:2 * TOTAL_ACTIVE_PIXELS:4] = Cr\n",
    "    lines[:TOTAL_ACTIVE_LINES, 1:2 * TOTAL_ACTIVE_PIXELS:2] = Y\n",
    "    lines[:TOTAL_ACTIVE_LINES, 2:2 * TOTAL_ACTIVE_PIXELS:4] = Cb\n",
    "\n",
    "    lines[:, EAV_START: EAV_START + 3] = preamble\n",
    "    lines[:, SAV_START: SAV_START + 3] = preamble\n",
    "\n",
    "    lines[:TOTAL_ACTIVE_LINES, EAV_START + 3] = EAV_active\n",
    "    lines[:TOTAL_ACTIVE_LINES, SAV_START + 3] = SAV_active\n",
    "    \n",
    "    lines[TOTAL_ACTIVE_LINES:, EAV_START + 3] = EAV_VBI\n",
    "    lines[TOTAL_ACTIVE_LINES:, SAV_START + 3] = SAV_VBI\n",
    "    \n",
    "    lines[:, EAV_START + 3 + 1:SAV_START:2] = DEFAULT_C\n",
    "    lines[:, EAV_START + 3 + 2:SAV_START:2] = DEFAULT_Y\n",
    "\n",
    "    lines[TOTAL_ACTIVE_LINES:, 0:EAV_START:2] = DEFAULT_C\n",
    "    lines[TOTAL_ACTIVE_LINES:, 1:EAV_START:2] = DEFAULT_Y\n",
    "\n",
    "    lines = np.roll(lines, 4)\n",
    "    lines = np.roll(lines, TOTAL_LINES - TOTAL_ACTIVE_LINES, 0)\n",
    "    \n",
    "\n",
    "\n",
    "    # cv2.imshow('frame', lines)\n",
    "    lines = lines.flatten()\n",
    "    all_frames.append(lines)\n",
    "    \n",
    "\n",
    "    counter += 1\n",
    "    # cv2.imshow('frame',global_frame)"
   ],
   "id": "a61cf2cb8cbccee2",
   "outputs": [],
   "execution_count": 55
  },
  {
   "metadata": {
    "ExecuteTime": {
     "end_time": "2025-04-02T14:17:28.338364Z",
     "start_time": "2025-04-02T14:17:28.287276Z"
    }
   },
   "cell_type": "code",
   "source": [
    "FRAME_CNT = 60\n",
    "all_frames = np.array(all_frames[:FRAME_CNT]).flatten()"
   ],
   "id": "7aefe43ef39bcd2b",
   "outputs": [],
   "execution_count": 56
  },
  {
   "metadata": {
    "ExecuteTime": {
     "end_time": "2025-04-01T16:03:14.657498Z",
     "start_time": "2025-04-01T16:03:14.652262Z"
    }
   },
   "cell_type": "code",
   "source": "len(all_frames) / 1000 ** 2",
   "id": "7cfc00ca553722c9",
   "outputs": [
    {
     "data": {
      "text/plain": [
       "196.3962"
      ]
     },
     "execution_count": 11,
     "metadata": {},
     "output_type": "execute_result"
    }
   ],
   "execution_count": 11
  },
  {
   "metadata": {
    "ExecuteTime": {
     "end_time": "2025-04-01T15:31:15.338526Z",
     "start_time": "2025-04-01T15:31:15.334367Z"
    }
   },
   "cell_type": "code",
   "source": "    ",
   "id": "53bae9623ec3c4e2",
   "outputs": [
    {
     "data": {
      "text/plain": [
       "dtype('uint8')"
      ]
     },
     "execution_count": 19,
     "metadata": {},
     "output_type": "execute_result"
    }
   ],
   "execution_count": 19
  },
  {
   "metadata": {
    "ExecuteTime": {
     "end_time": "2025-04-02T14:17:31.602667Z",
     "start_time": "2025-04-02T14:17:31.407836Z"
    }
   },
   "cell_type": "code",
   "source": [
    "with open(f\"video_f{FRAME_CNT}.bin\", \"wb\") as fd:\n",
    "    fd.write(all_frames)"
   ],
   "id": "4d4f18c9f66ef16c",
   "outputs": [],
   "execution_count": 57
  },
  {
   "metadata": {
    "ExecuteTime": {
     "end_time": "2025-04-02T14:17:32.853258Z",
     "start_time": "2025-04-02T14:17:32.798070Z"
    }
   },
   "cell_type": "code",
   "source": [
    "# with open(\"video.bin\", \"rb\") as fd:\n",
    "#     all_frames_read =  fd.read()\n",
    "with open(f\"video_f{FRAME_CNT}.bin\", \"rb\") as fd:\n",
    "    all_frames_read =  fd.read()"
   ],
   "id": "623b2acc608952cc",
   "outputs": [],
   "execution_count": 58
  },
  {
   "metadata": {
    "ExecuteTime": {
     "end_time": "2025-04-02T14:17:36.933456Z",
     "start_time": "2025-04-02T14:17:34.446373Z"
    }
   },
   "cell_type": "code",
   "source": "all_frames_read = np.array([*all_frames_read])",
   "id": "bf10e13450e8aa8f",
   "outputs": [],
   "execution_count": 59
  },
  {
   "metadata": {
    "ExecuteTime": {
     "end_time": "2025-04-02T14:17:37.676769Z",
     "start_time": "2025-04-02T14:17:37.671751Z"
    }
   },
   "cell_type": "code",
   "source": "all_frames_read.shape",
   "id": "fd3f48eec1e1c1d7",
   "outputs": [
    {
     "data": {
      "text/plain": [
       "(54054000,)"
      ]
     },
     "execution_count": 60,
     "metadata": {},
     "output_type": "execute_result"
    }
   ],
   "execution_count": 60
  },
  {
   "metadata": {
    "ExecuteTime": {
     "end_time": "2025-04-02T14:17:39.310119Z",
     "start_time": "2025-04-02T14:17:39.271471Z"
    }
   },
   "cell_type": "code",
   "source": "all_frames =  np.reshape(all_frames_read, (-1, TOTAL_LINES * 2 * TOTAL_PIXELS)).astype(np.uint8)\n",
   "id": "5782b20564df509c",
   "outputs": [],
   "execution_count": 61
  },
  {
   "metadata": {
    "ExecuteTime": {
     "end_time": "2025-04-02T14:17:54.861920Z",
     "start_time": "2025-04-02T14:17:51.716597Z"
    }
   },
   "cell_type": "code",
   "source": [
    "try:\n",
    "    for frame in all_frames:\n",
    "        frame = np.reshape(frame, (TOTAL_LINES, 2 * TOTAL_PIXELS))\n",
    "        frame = np.roll(frame, -4)\n",
    "        frame = np.roll(frame, -(TOTAL_LINES - TOTAL_ACTIVE_LINES), 0)\n",
    "        frame = frame[:TOTAL_ACTIVE_LINES, :2 * TOTAL_ACTIVE_PIXELS]\n",
    "        Cr = frame[:TOTAL_ACTIVE_LINES, 0:2 * TOTAL_ACTIVE_PIXELS:4]\n",
    "        Y  = frame[:TOTAL_ACTIVE_LINES, 1:2 * TOTAL_ACTIVE_PIXELS:2]\n",
    "        Cb = frame[:TOTAL_ACTIVE_LINES, 2:2 * TOTAL_ACTIVE_PIXELS:4]\n",
    "\n",
    "        Cr = np.repeat(Cr, 2, axis=1)\n",
    "        Cb = np.repeat(Cb, 2, axis=1)\n",
    "        \n",
    "        new_frame = np.zeros((TOTAL_ACTIVE_LINES, TOTAL_ACTIVE_PIXELS, 3)).astype(np.uint8)\n",
    "        new_frame[:,:,0] = Y\n",
    "        new_frame[:,:,1] = Cr\n",
    "        new_frame[:,:,2] = Cb\n",
    "        \n",
    "        frame = cv2.cvtColor(new_frame, cv2.COLOR_YCrCb2BGR)\n",
    "\n",
    "        # frame = frame[:100, :100]\n",
    "        # frame = cv2.resize(frame, (480, 480))\n",
    "        cv2.imshow('frame', frame)\n",
    "        if cv2.waitKey(33) & 0xFF == ord('q'):\n",
    "            # cap.release()\n",
    "            cv2.destroyAllWindows()\n",
    "            break\n",
    "finally:\n",
    "    cv2.destroyAllWindows()\n",
    "    \n"
   ],
   "id": "6b6b6f7aaf514bda",
   "outputs": [],
   "execution_count": 64
  },
  {
   "metadata": {
    "ExecuteTime": {
     "end_time": "2025-04-02T14:08:46.780971Z",
     "start_time": "2025-04-02T14:08:46.775904Z"
    }
   },
   "cell_type": "code",
   "source": "Y.dtype",
   "id": "cc808eed896597af",
   "outputs": [
    {
     "data": {
      "text/plain": [
       "dtype('uint8')"
      ]
     },
     "execution_count": 34,
     "metadata": {},
     "output_type": "execute_result"
    }
   ],
   "execution_count": 34
  },
  {
   "metadata": {
    "ExecuteTime": {
     "end_time": "2025-04-02T14:09:33.026187Z",
     "start_time": "2025-04-02T14:09:33.020188Z"
    }
   },
   "cell_type": "code",
   "source": "new_frame.shape",
   "id": "bf184ee1e62836a2",
   "outputs": [
    {
     "data": {
      "text/plain": [
       "(480, 720, 3)"
      ]
     },
     "execution_count": 35,
     "metadata": {},
     "output_type": "execute_result"
    }
   ],
   "execution_count": 35
  },
  {
   "metadata": {
    "ExecuteTime": {
     "end_time": "2025-04-02T14:02:52.421370Z",
     "start_time": "2025-04-02T14:02:52.414338Z"
    }
   },
   "cell_type": "code",
   "source": "len(all_frames)",
   "id": "df6913827b55ebb",
   "outputs": [
    {
     "data": {
      "text/plain": [
       "60"
      ]
     },
     "execution_count": 25,
     "metadata": {},
     "output_type": "execute_result"
    }
   ],
   "execution_count": 25
  }
 ],
 "metadata": {
  "kernelspec": {
   "display_name": "Python 3",
   "language": "python",
   "name": "python3"
  },
  "language_info": {
   "codemirror_mode": {
    "name": "ipython",
    "version": 2
   },
   "file_extension": ".py",
   "mimetype": "text/x-python",
   "name": "python",
   "nbconvert_exporter": "python",
   "pygments_lexer": "ipython2",
   "version": "2.7.6"
  }
 },
 "nbformat": 4,
 "nbformat_minor": 5
}
