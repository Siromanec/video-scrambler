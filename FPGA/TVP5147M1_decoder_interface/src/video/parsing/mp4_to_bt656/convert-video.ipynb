{
 "cells": [
  {
   "cell_type": "code",
   "id": "initial_id",
   "metadata": {
    "collapsed": true,
    "ExecuteTime": {
     "end_time": "2025-03-31T17:27:33.050859Z",
     "start_time": "2025-03-31T17:27:32.804434Z"
    }
   },
   "source": [
    "import cv2\n",
    "import numpy as np\n"
   ],
   "outputs": [],
   "execution_count": 2
  },
  {
   "metadata": {},
   "cell_type": "code",
   "outputs": [],
   "execution_count": null,
   "source": "",
   "id": "de0eced3a9b632b6"
  },
  {
   "metadata": {},
   "cell_type": "markdown",
   "source": [
    "The requirements for verilog module with the video\n",
    "\n",
    "1. independent of exact formmat\n",
    "2. must \n"
   ],
   "id": "a521d4abbb84a4d1"
  },
  {
   "metadata": {
    "ExecuteTime": {
     "end_time": "2025-03-31T17:27:32.803157Z",
     "start_time": "2025-03-31T17:27:32.795161Z"
    }
   },
   "cell_type": "code",
   "source": "video_file = \"2053100-uhd_3840_2160_30fps.mp4\"",
   "id": "7145bf68c42fd263",
   "outputs": [],
   "execution_count": 1
  },
  {
   "metadata": {
    "ExecuteTime": {
     "end_time": "2025-03-31T19:37:17.352036Z",
     "start_time": "2025-03-31T19:37:17.347549Z"
    }
   },
   "cell_type": "code",
   "source": [
    "TOTAL_LINES = 525\n",
    "TOTAL_ACTIVE_LINES = 480\n",
    "TOTAL_PIXELS = 858\n",
    "TOTAL_ACTIVE_PIXELS = 720\n",
    "TOTAL_BLANKING_PIXELS = TOTAL_PIXELS - TOTAL_ACTIVE_PIXELS\n",
    "\n",
    "preamble = [0xFF, 0x00, 0x00]\n",
    "# https://pub.smpte.org/pub/st293/st0293-2003_stable2010.pdf, table 3\n",
    "SAV_active = 0b10000000\n",
    "EAV_active = 0b10011101\n",
    "SAV_VBI = 0b10101011\n",
    "EAV_VBI = 0b10110110\n",
    "\n",
    "EAV_START = 2 * TOTAL_ACTIVE_PIXELS\n",
    "SAV_START =  2 * TOTAL_PIXELS - 4\n",
    "\n",
    "DEFAULT_Y = 16\n",
    "DEFAULT_C = 128\n",
    "# what is going on during vertical blanking?\n",
    "# todo do for one frame"
   ],
   "id": "d7eb322b7809b606",
   "outputs": [],
   "execution_count": 39
  },
  {
   "metadata": {
    "ExecuteTime": {
     "end_time": "2025-03-31T19:42:58.183986Z",
     "start_time": "2025-03-31T19:42:26.069454Z"
    }
   },
   "cell_type": "code",
   "source": [
    "\n",
    "cap = cv2.VideoCapture(video_file)\n",
    "global_frame = np.zeros((TOTAL_ACTIVE_LINES, TOTAL_ACTIVE_PIXELS, 3), np.uint8)\n",
    "\n",
    "counter = 0\n",
    "while (1):\n",
    "    ret, frame = cap.read()\n",
    "\n",
    "    if cv2.waitKey(1) & 0xFF == ord('q') or ret == False:\n",
    "        cap.release()\n",
    "        cv2.destroyAllWindows()\n",
    "        break\n",
    "\n",
    "    frame = cv2.resize(frame, (720, 480))\n",
    "    frame = cv2.cvtColor(frame, cv2.COLOR_BGR2YCrCb)\n",
    "\n",
    "    lines = np.zeros((TOTAL_LINES, 2 * TOTAL_PIXELS)).astype(np.uint8)\n",
    "    # YCrCb 4:2:2\n",
    "    Y = frame[:, :, 0]\n",
    "    Cr = frame[:, ::2, 1]\n",
    "    Cb = frame[:, ::2, 2]\n",
    "\n",
    "    lines[:TOTAL_ACTIVE_LINES, 0:2 * TOTAL_ACTIVE_PIXELS:4] = Cr\n",
    "    lines[:TOTAL_ACTIVE_LINES, 1:2 * TOTAL_ACTIVE_PIXELS:2] = Y\n",
    "    lines[:TOTAL_ACTIVE_LINES, 2:2 * TOTAL_ACTIVE_PIXELS:4] = Cb\n",
    "\n",
    "    lines[:, EAV_START: EAV_START + 3] = preamble\n",
    "    lines[:, SAV_START: SAV_START + 3] = preamble\n",
    "\n",
    "    lines[:TOTAL_ACTIVE_LINES, EAV_START + 3] = EAV_active\n",
    "    lines[:TOTAL_ACTIVE_LINES, SAV_START + 3] = SAV_active\n",
    "    \n",
    "    lines[TOTAL_ACTIVE_LINES:, EAV_START + 3] = EAV_VBI\n",
    "    lines[TOTAL_ACTIVE_LINES:, SAV_START + 3] = SAV_VBI\n",
    "    \n",
    "    lines[:, EAV_START + 3 + 1:SAV_START:2] = DEFAULT_C\n",
    "    lines[:, EAV_START + 3 + 2:SAV_START:2] = DEFAULT_Y\n",
    "\n",
    "    lines[TOTAL_ACTIVE_LINES:, 0:EAV_START:2] = DEFAULT_C\n",
    "    lines[TOTAL_ACTIVE_LINES:, 1:EAV_START:2] = DEFAULT_Y\n",
    "\n",
    "\n",
    "\n",
    "\n",
    "    cv2.imshow('frame', lines)\n",
    "\n",
    "    counter += 1\n",
    "    # cv2.imshow('frame',global_frame)"
   ],
   "id": "a61cf2cb8cbccee2",
   "outputs": [],
   "execution_count": 41
  },
  {
   "metadata": {
    "ExecuteTime": {
     "end_time": "2025-03-31T19:13:18.977053Z",
     "start_time": "2025-03-31T19:13:18.971856Z"
    }
   },
   "cell_type": "code",
   "source": " lines[:TOTAL_LINES, 2 * TOTAL_ACTIVE_PIXELS:2 * TOTAL_ACTIVE_PIXELS + 3]",
   "id": "7aefe43ef39bcd2b",
   "outputs": [
    {
     "data": {
      "text/plain": [
       "array([[255,   0,   0],\n",
       "       [255,   0,   0],\n",
       "       [255,   0,   0],\n",
       "       ...,\n",
       "       [255,   0,   0],\n",
       "       [255,   0,   0],\n",
       "       [255,   0,   0]], dtype=uint8)"
      ]
     },
     "execution_count": 28,
     "metadata": {},
     "output_type": "execute_result"
    }
   ],
   "execution_count": 28
  }
 ],
 "metadata": {
  "kernelspec": {
   "display_name": "Python 3",
   "language": "python",
   "name": "python3"
  },
  "language_info": {
   "codemirror_mode": {
    "name": "ipython",
    "version": 2
   },
   "file_extension": ".py",
   "mimetype": "text/x-python",
   "name": "python",
   "nbconvert_exporter": "python",
   "pygments_lexer": "ipython2",
   "version": "2.7.6"
  }
 },
 "nbformat": 4,
 "nbformat_minor": 5
}
