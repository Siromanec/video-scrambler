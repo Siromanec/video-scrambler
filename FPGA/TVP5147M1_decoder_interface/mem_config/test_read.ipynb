{
 "cells": [
  {
   "cell_type": "code",
   "execution_count": null,
   "id": "initial_id",
   "metadata": {
    "collapsed": true
   },
   "outputs": [],
   "source": [
    ""
   ]
  },
  {
   "metadata": {
    "ExecuteTime": {
     "end_time": "2025-03-08T11:27:29.794426Z",
     "start_time": "2025-03-08T11:27:29.789217Z"
    }
   },
   "cell_type": "code",
   "source": "register_config_file_name = \"TVP5147M1_i2c_registers.txt\" ",
   "id": "772583f19ed19193",
   "outputs": [],
   "execution_count": 1
  },
  {
   "metadata": {
    "ExecuteTime": {
     "end_time": "2025-03-08T11:27:37.275204Z",
     "start_time": "2025-03-08T11:27:36.123419Z"
    }
   },
   "cell_type": "code",
   "source": [
    "import os\n",
    "import sys\n",
    "import pandas as pd"
   ],
   "id": "6411f597f5041514",
   "outputs": [],
   "execution_count": 4
  },
  {
   "metadata": {
    "ExecuteTime": {
     "end_time": "2025-03-08T11:28:15.912682Z",
     "start_time": "2025-03-08T11:28:15.905937Z"
    }
   },
   "cell_type": "code",
   "source": "sys.version",
   "id": "8e6efc694ec010e1",
   "outputs": [
    {
     "data": {
      "text/plain": [
       "'3.12.0 (tags/v3.12.0:0fb18b0, Oct  2 2023, 13:03:39) [MSC v.1935 64 bit (AMD64)]'"
      ]
     },
     "execution_count": 5,
     "metadata": {},
     "output_type": "execute_result"
    }
   ],
   "execution_count": 5
  },
  {
   "metadata": {
    "ExecuteTime": {
     "end_time": "2025-03-08T11:27:29.802928Z",
     "start_time": "2025-03-08T11:27:29.797436Z"
    }
   },
   "cell_type": "code",
   "source": [
    "with open(register_config_file_name, 'r') as file:\n",
    "    lines = file.readlines()"
   ],
   "id": "3e70319145bfd3f9",
   "outputs": [],
   "execution_count": 2
  },
  {
   "metadata": {
    "ExecuteTime": {
     "end_time": "2025-03-08T11:49:54.625611Z",
     "start_time": "2025-03-08T11:49:54.622580Z"
    }
   },
   "cell_type": "code",
   "source": [
    "def from_intel_hex_int(string):\n",
    "    \"\"\"\n",
    "    XXh -> 0xXX    \n",
    "    \"\"\"\n",
    "    return int(\"0x\"+string[:-1], 16)"
   ],
   "id": "2416f99219266988",
   "outputs": [],
   "execution_count": 26
  },
  {
   "metadata": {
    "ExecuteTime": {
     "end_time": "2025-03-08T12:29:34.168285Z",
     "start_time": "2025-03-08T12:29:34.163278Z"
    }
   },
   "cell_type": "code",
   "source": [
    "def raw_address_to_address_range(address):\n",
    "    \"\"\"\n",
    "    XXh -> (0xXX, 0xXX + 1)\n",
    "    XXh-YYh -> (0xXX, 0xYY + 1)\n",
    "    \"\"\"\n",
    "    if \"-\" not in address:\n",
    "        address = from_intel_hex_int(address)\n",
    "        address_range = (address, address + 1)\n",
    "    else:\n",
    "        address_range = address.split(\"-\")\n",
    "        address_range = from_intel_hex_int(address_range[0]), from_intel_hex_int(address_range[1]) + 1\n",
    "    return address_range"
   ],
   "id": "c612de00b117d58a",
   "outputs": [],
   "execution_count": 29
  },
  {
   "metadata": {
    "ExecuteTime": {
     "end_time": "2025-03-08T12:38:03.981071Z",
     "start_time": "2025-03-08T12:38:03.974071Z"
    }
   },
   "cell_type": "code",
   "source": [
    "reserved_counter = 0\n",
    "for line in lines:\n",
    "    \n",
    "    line = line.strip().split()\n",
    "    if line[0].lower() != \"reserved\":\n",
    "        *name, address, default, mode = line\n",
    "        if address[-1] != \"h\":\n",
    "            name.append(address)\n",
    "            address = default\n",
    "        mode = mode.lower()\n",
    "        if mode == \"r/w\":\n",
    "            mode = \"rw\"\n",
    "    else:\n",
    "        \n",
    "        name, address = line\n",
    "        mode = None\n",
    "        name = (name, str(reserved_counter))\n",
    "        reserved_counter += 1\n",
    "        \n",
    "\n",
    "    \n",
    "    name = \"_\".join(name).lower()\n",
    "    address_range = raw_address_to_address_range(address)\n",
    "    print(name, address_range, mode)"
   ],
   "id": "7ecd4a6929c065a6",
   "outputs": [
    {
     "name": "stdout",
     "output_type": "stream",
     "text": [
      "input_select (0, 1) rw\n",
      "afe_gain_control (1, 2) rw\n",
      "video_standard (2, 3) rw\n",
      "operation_mode (3, 4) rw\n",
      "autoswitch_mask (4, 5) rw\n",
      "color_killer (5, 6) rw\n",
      "luminance_processing_control_1 (6, 7) rw\n",
      "luminance_processing_control_2 (7, 8) rw\n",
      "luminance_processing_control_3 (8, 9) rw\n",
      "luminance_brightness (9, 10) rw\n",
      "luminance_contrast (10, 11) rw\n",
      "chrominance_saturation (11, 12) rw\n",
      "chroma_hue (12, 13) rw\n",
      "chrominance_processing_control_1 (13, 14) rw\n",
      "chrominance_processing_control_2 (14, 15) rw\n",
      "reserved_0 (15, 22) None\n",
      "avid_start_pixel (22, 24) rw\n",
      "avid_stop_pixel (24, 26) rw\n",
      "hsync_start_pixel (26, 28) rw\n",
      "hsync_stop_pixel (28, 30) rw\n",
      "vsync_start_line (30, 32) rw\n",
      "vsync_stop_line (32, 34) rw\n",
      "vblk_start_line (34, 36) rw\n",
      "vblk_stop_line (36, 38) rw\n",
      "embedded_sync_offset_control_1 (38, 39) rw\n",
      "embedded_sync_offset_control_2 (39, 40) rw\n",
      "reserved_1 (40, 43) None\n",
      "overlay_delay (43, 44) rw\n",
      "reserved_2 (44, 45) None\n",
      "cti_delay (45, 46) rw\n",
      "cti_control (46, 47) rw\n",
      "reserved_3 (47, 50) None\n",
      "sync_control (50, 51) rw\n",
      "output_formatter_1 (51, 52) rw\n",
      "output_formatter_2 (52, 53) rw\n",
      "output_formatter_3 (53, 54) rw\n",
      "output_formatter_4 (54, 55) rw\n",
      "output_formatter_5 (55, 56) rw\n",
      "output_formatter_6 (56, 57) rw\n",
      "clear_lost_lock_detect (57, 58) rw\n",
      "status_1 (58, 59) r\n",
      "status_2 (59, 60) r\n",
      "agc_gain_status (60, 62) r\n",
      "reserved_4 (62, 63) None\n",
      "video_standard_status (63, 64) r\n",
      "gpio_input_1 (64, 65) r\n",
      "gpio_input_2 (65, 66) r\n",
      "reserved_5 (66, 70) None\n",
      "afe_coarse_gain_for_ch1 (70, 71) rw\n",
      "afe_coarse_gain_for_ch2 (71, 72) rw\n",
      "afe_coarse_gain_for_ch3 (72, 73) rw\n",
      "afe_coarse_gain_for_ch4 (73, 74) rw\n",
      "afe_fine_gain_for_pb (74, 76) rw\n",
      "afe_fine_gain_for_chroma (76, 78) rw\n",
      "afe_fine_gain_for_pr (78, 80) rw\n",
      "afe_fine_gain_for_cvbs_luma (80, 82) rw\n",
      "reserved_6 (82, 87) None\n",
      "field_id_control (87, 88) rw\n",
      "reserved_7 (88, 105) None\n",
      "f-bit_and_v-bit_control_1 (105, 106) rw\n",
      "reserved_8 (106, 108) None\n",
      "back-end_agc_control (108, 109) rw\n",
      "reserved_9 (109, 111) None\n",
      "agc_decrement_speed_control (111, 112) rw\n",
      "rom_version (112, 113) r\n",
      "ram_version_msb (113, 114) r\n",
      "reserved_10 (114, 116) None\n",
      "agc_white_peak_processing (116, 117) rw\n",
      "f_and_v_bit_control (117, 118) rw\n",
      "vcr_trick_mode_control (118, 119) rw\n",
      "horizontal_shake_increment (119, 120) rw\n",
      "agc_increment_speed (120, 121) rw\n",
      "agc_increment_delay (121, 122) rw\n",
      "reserved_11 (122, 127) None\n",
      "analog_output_control_1 (127, 128) rw\n",
      "chip_id_msb (128, 129) r\n",
      "chip_id_lsb (129, 130) r\n",
      "ram_version_lsb (130, 131) r\n",
      "cpll_speed_control (131, 132) rw\n",
      "reserved_12 (132, 151) None\n",
      "status_request (151, 152) rw\n",
      "reserved_13 (152, 154) None\n",
      "vertical_line_count (154, 156) r\n",
      "reserved_14 (156, 158) None\n",
      "agc_decrement_delay (158, 159) rw\n",
      "reserved_15 (159, 177) None\n",
      "vdp_ttx_filter_1_mask_1 (177, 178) rw\n",
      "vdp_ttx_filter_1_mask_2 (178, 179) rw\n",
      "vdp_ttx_filter_1_mask_3 (179, 180) rw\n",
      "vdp_ttx_filter_1_mask_4 (180, 181) rw\n",
      "vdp_ttx_filter_1_mask_5 (181, 182) rw\n",
      "vdp_ttx_filter_2_mask_1 (182, 183) rw\n",
      "vdp_ttx_filter_2_mask_2 (183, 184) rw\n",
      "vdp_ttx_filter_2_mask_3 (184, 185) rw\n",
      "vdp_ttx_filter_2_mask_4 (185, 186) rw\n",
      "vdp_ttx_filter_2_mask_5 (186, 187) rw\n",
      "vdp_ttx_filter_control (187, 188) rw\n",
      "vdp_fifo_word_count (188, 189) r\n",
      "vdp_fifo_interrupt_threshold (189, 190) rw\n",
      "reserved_16 (190, 191) None\n",
      "vdp_fifo_reset (191, 192) rw\n",
      "vdp_fifo_output_control (192, 193) rw\n",
      "vdp_line_number_interrupt (193, 194) rw\n",
      "vdp_pixel_alignment (194, 196) rw\n",
      "reserved_17 (196, 214) None\n",
      "vdp_line_start (214, 215) rw\n",
      "vdp_line_stop (215, 216) rw\n",
      "vdp_global_line_mode (216, 217) rw\n",
      "vdp_full_field_enable (217, 218) rw\n",
      "vdp_full_field_mode (218, 219) rw\n",
      "reserved_18 (219, 224) None\n",
      "vbus_data_access_with_no_vbus_address_increment (224, 225) rw\n",
      "vbus_data_access_with_vbus_address_increment (225, 226) rw\n",
      "fifo_read_data (226, 227) r\n",
      "reserved_19 (227, 232) None\n",
      "vbus_address_access_e8h-eah_00 (0, 1) rw\n",
      "reserved_20 (235, 240) None\n",
      "interrupt_raw_status_0 (240, 241) r\n",
      "interrupt_raw_status_1 (241, 242) r\n",
      "interrupt_status_0 (242, 243) r\n",
      "interrupt_status_1 (243, 244) r\n",
      "interrupt_mask_0 (244, 245) rw\n",
      "interrupt_mask_1 (245, 246) rw\n",
      "interrupt_clear_0 (246, 247) rw\n",
      "interrupt_clear_1 (247, 248) rw\n",
      "reserved_21 (248, 256) None\n"
     ]
    }
   ],
   "execution_count": 32
  }
 ],
 "metadata": {
  "kernelspec": {
   "display_name": "Python 3",
   "language": "python",
   "name": "python3"
  },
  "language_info": {
   "codemirror_mode": {
    "name": "ipython",
    "version": 2
   },
   "file_extension": ".py",
   "mimetype": "text/x-python",
   "name": "python",
   "nbconvert_exporter": "python",
   "pygments_lexer": "ipython2",
   "version": "2.7.6"
  }
 },
 "nbformat": 4,
 "nbformat_minor": 5
}
